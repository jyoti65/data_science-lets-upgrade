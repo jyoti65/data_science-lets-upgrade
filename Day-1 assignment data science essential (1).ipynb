Ques1:given the following jumbled word, OBANWRI guess the correct english word.
A. RANIBOW B. RAINBOW C.BOWRANI D.ROBWANI

ANSWER: B. RAINBOW
Question 2: write a program which prints"LETS UPGRADE"
a="lets upgrade"
a.upper()
'LETS UPGRADE'
Question3: Write a program that takes cost price and selling price as input and display whether the transaction is a profit or a loss or neither.
a=int(input("cost price: "))
b=int(input("selling price :"))
if(a>b):
    print("loss")
elif(a<b):
    print("profit")
else:
    print("neither")
cost price: 50
selling price :43
loss
Question4: write a program that takes an amount in euro as input. you need to finf its equivalent in euro and display it.
a=int(input(" "))
indian_rupee=80*a
print(indian_rupee)
 20
1600